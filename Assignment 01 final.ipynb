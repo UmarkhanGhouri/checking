{
 "cells": [
  {
   "cell_type": "markdown",
   "metadata": {},
   "source": [
    "# Part -1 Python Basics (Variables)"
   ]
  },
  {
   "cell_type": "markdown",
   "metadata": {},
   "source": [
    "1. Print Your Name with your Father name and Date of birth using suitable escape sequence charactor"
   ]
  },
  {
   "cell_type": "code",
   "execution_count": 1,
   "metadata": {},
   "outputs": [
    {
     "name": "stdout",
     "output_type": "stream",
     "text": [
      "My name is Umar Khan\n",
      "My Father Name is Muhammed Nazeer Khan Ghouri\n",
      "My Date of Birth is 08/03/2005\n"
     ]
    }
   ],
   "source": [
    "name='Umar Khan'\n",
    "fathername='Muhammed Nazeer Khan Ghouri'\n",
    "DOB='08/03/2005'\n",
    "print(f\"My name is {name}\\nMy Father Name is {fathername}\\nMy Date of Birth is {DOB}\")"
   ]
  },
  {
   "cell_type": "markdown",
   "metadata": {},
   "source": [
    "2. Write your small bio using variables and print it using print function"
   ]
  },
  {
   "cell_type": "code",
   "execution_count": 2,
   "metadata": {},
   "outputs": [
    {
     "name": "stdout",
     "output_type": "stream",
     "text": [
      "Name: Umar khan Ghouri\n",
      "Hobby: Learning to code\n",
      "interest: Interested In Learning Coding\n",
      "Educational status: BSE First Year\n"
     ]
    }
   ],
   "source": [
    "name=\"Umar khan Ghouri\"\n",
    "educationastatus=\"BSE First Year\"\n",
    "interest=\"Interested In Learning Coding\"\n",
    "hobbies='Learning to code'\n",
    "print(f\"Name: {name}\\nHobby: {hobbies}\\ninterest: {interest}\\nEducational status: {educationastatus}\")"
   ]
  },
  {
   "cell_type": "markdown",
   "metadata": {},
   "source": [
    "3. Write a program in which use all the operators we can use in Python"
   ]
  },
  {
   "cell_type": "code",
   "execution_count": 50,
   "metadata": {},
   "outputs": [
    {
     "name": "stdout",
     "output_type": "stream",
     "text": [
      "Addition: 50 + 100 = 150\n",
      "Subtraction: 50 - 100 = -50\n",
      "Multiplication: 50 * 100 = 5000\n",
      "Division: 50 / 100 = 0.5\n",
      "Floor Division: 50 // 100 = 0\n",
      "Modulus: 50 % 100 = 50\n",
      "Exponentiation: 50 ** 100 = 78886090522101180541172856528278622967320643510902300477027893066406250000000000000000000000000000000000000000000000000000000000000000000000000000000000000000000000000000\n",
      "Equal: 50 == 100 = False\n",
      "Not Equal: 50 != 100 = True\n",
      "Greater Than: 50 > 100 = False\n",
      "Less Than: 50 < 100 = True\n",
      "Greater Than or Equal To: 50 >= 100 = False\n",
      "Less Than or Equal To: 50 <= 100 = True\n",
      "Logical AND: True and False = False\n",
      "Logical OR: True or False = True\n",
      "Logical NOT: not True = False\n",
      "Assignment: c = 150\n",
      "Add and Assign: c += 50 = 200\n",
      "Subtract and Assign: c -= 100 = 100\n",
      "Multiply and Assign: c *= 50 = 5000\n",
      "Divide and Assign: c /= 100 = 50.0\n",
      "Modulus and Assign: c %= 50 = 0.0\n",
      "Floor Divide and Assign: c //= 100 = 0.0\n",
      "(in): 33 in list = True\n",
      "(not in): 66 not in list = True\n",
      "Identity (is): a is d = True\n",
      "Identity (is not): a is not b = True\n"
     ]
    }
   ],
   "source": [
    "# Arithmetic Operators\n",
    "a = 50\n",
    "b = 100\n",
    "print(f\"Addition: {a} + {b} = {a + b}\")\n",
    "print(f\"Subtraction: {a} - {b} = {a - b}\")\n",
    "print(f\"Multiplication: {a} * {b} = {a * b}\")\n",
    "print(f\"Division: {a} / {b} = {a / b}\")\n",
    "print(f\"Floor Division: {a} // {b} = {a // b}\")\n",
    "print(f\"Modulus: {a} % {b} = {a % b}\")\n",
    "print(f\"Exponentiation: {a} ** {b} = {a ** b}\")\n",
    "\n",
    "# Comparison Operators\n",
    "print(f\"Equal: {a} == {b} = {a == b}\")\n",
    "print(f\"Not Equal: {a} != {b} = {a != b}\")\n",
    "print(f\"Greater Than: {a} > {b} = {a > b}\")\n",
    "print(f\"Less Than: {a} < {b} = {a < b}\")\n",
    "print(f\"Greater Than or Equal To: {a} >= {b} = {a >= b}\")\n",
    "print(f\"Less Than or Equal To: {a} <= {b} = {a <= b}\")\n",
    "\n",
    "# Logical Operators\n",
    "x = True\n",
    "y = False\n",
    "print(f\"Logical AND: {x} and {y} = {x and y}\")\n",
    "print(f\"Logical OR: {x} or {y} = {x or y}\")\n",
    "print(f\"Logical NOT: not {x} = {not x}\")\n",
    "\n",
    "# Assignment Operators\n",
    "c = a + b\n",
    "print(f\"Assignment: c = {c}\")\n",
    "c += a\n",
    "print(f\"Add and Assign: c += {a} = {c}\")\n",
    "c -= b\n",
    "print(f\"Subtract and Assign: c -= {b} = {c}\")\n",
    "c *= a\n",
    "print(f\"Multiply and Assign: c *= {a} = {c}\")\n",
    "c /= b\n",
    "print(f\"Divide and Assign: c /= {b} = {c}\")\n",
    "c %= a\n",
    "print(f\"Modulus and Assign: c %= {a} = {c}\")\n",
    "c //= b\n",
    "print(f\"Floor Divide and Assign: c //= {b} = {c}\")\n",
    "\n",
    "# Membership Operators\n",
    "my_list = [10, 22, 33, 44, 55]\n",
    "print(f\"(in): 33 in list = {33 in my_list}\")\n",
    "print(f\"(not in): 66 not in list = {66 not in my_list}\")\n",
    "\n",
    "# Identity Operators\n",
    "d = a\n",
    "print(f\"Identity (is): a is d = {a is d}\")\n",
    "print(f\"Identity (is not): a is not b = {a is not b}\")\n"
   ]
  },
  {
   "cell_type": "markdown",
   "metadata": {},
   "source": [
    "4. Completes the following steps of small task:\n",
    "    - Mention Marks of English , Islamiat and Maths out of 100 in 3 different variables\n",
    "    - Mention Variable of Total Marks and assign 300 to it\n",
    "    - Calculate Percentage"
   ]
  },
  {
   "cell_type": "code",
   "execution_count": 3,
   "metadata": {},
   "outputs": [
    {
     "name": "stdout",
     "output_type": "stream",
     "text": [
      "80.33333333333333\n"
     ]
    }
   ],
   "source": [
    "EnglishMarks=65\n",
    "IslamiatMarks=77\n",
    "MathsMarks=99\n",
    "TotalMarks=300\n",
    "sum=EnglishMarks+IslamiatMarks+MathsMarks\n",
    "percentage=(sum/TotalMarks)*100\n",
    "print(percentage)"
   ]
  },
  {
   "cell_type": "markdown",
   "metadata": {},
   "source": [
    "# Part -2 Python Basics (Conditional Statements)"
   ]
  },
  {
   "cell_type": "markdown",
   "metadata": {},
   "source": [
    "1) A company decided to give bonus of 5% to employee if his/her year of service is more than 5 years.\n",
    "Ask user for their salary and year of service and print the net bonus amount."
   ]
  },
  {
   "cell_type": "code",
   "execution_count": 4,
   "metadata": {},
   "outputs": [
    {
     "name": "stdin",
     "output_type": "stream",
     "text": [
      "Enter Your Salary: 5000\n",
      "Enter Your Year Of Service: 6\n"
     ]
    },
    {
     "name": "stdout",
     "output_type": "stream",
     "text": [
      "Congrats 5% Bonus will be Added to Your Salary\n",
      "The New Amount is:$5250.0\n"
     ]
    }
   ],
   "source": [
    "usersalary=int(input(\"Enter Your Salary:\"))\n",
    "userYear=int(input(\"Enter Your Year Of Service:\"))\n",
    "bonususersalary=usersalary*0.05\n",
    "newsalary=usersalary+bonususersalary\n",
    "if userYear>5:\n",
    "    print(\"Congrats 5% Bonus will be Added to Your Salary\")\n",
    "    print(f\"The New Amount is:${newsalary}\")\n",
    "else:\n",
    "    print(\"Sorry Your Year of Service is Not Greater Than 5 year So you are not eligible\")\n",
    "    \n",
    "    "
   ]
  },
  {
   "cell_type": "markdown",
   "metadata": {},
   "source": [
    "\n",
    "2) Write a program to check whether a person is eligible for voting or not. (accept age from user) if age is greater than 17 eligible otherwise not eligible"
   ]
  },
  {
   "cell_type": "code",
   "execution_count": 5,
   "metadata": {},
   "outputs": [
    {
     "name": "stdin",
     "output_type": "stream",
     "text": [
      "Enter Your Age 17\n"
     ]
    },
    {
     "name": "stdout",
     "output_type": "stream",
     "text": [
      "You are not Eligible For Voting\n"
     ]
    }
   ],
   "source": [
    "userage=int(input(\"Enter Your Age\"))\n",
    "if userage>17:\n",
    "    print(\"You are Eligible For Voting\")\n",
    "else:\n",
    "    print(\"You are not Eligible For Voting\")\n",
    "    "
   ]
  },
  {
   "cell_type": "markdown",
   "metadata": {},
   "source": [
    "\n",
    "3) Write a program to check whether a number entered by user is even or odd."
   ]
  },
  {
   "cell_type": "code",
   "execution_count": 6,
   "metadata": {},
   "outputs": [
    {
     "name": "stdin",
     "output_type": "stream",
     "text": [
      "Enter Your Number 6\n"
     ]
    },
    {
     "name": "stdout",
     "output_type": "stream",
     "text": [
      "Number 6 is Even\n"
     ]
    }
   ],
   "source": [
    "usernumber=int(input('Enter Your Number'))\n",
    "if usernumber%2==0:\n",
    "    print(f'Number {usernumber} is Even')\n",
    "else:\n",
    "    print(f\"Number {usernumber} is ODD\")"
   ]
  },
  {
   "cell_type": "markdown",
   "metadata": {},
   "source": [
    "4) Write a program to check whether a number is divisible by 7 or not.\n",
    "Show Answer"
   ]
  },
  {
   "cell_type": "code",
   "execution_count": 7,
   "metadata": {},
   "outputs": [
    {
     "name": "stdin",
     "output_type": "stream",
     "text": [
      "Enter Your Number 99\n"
     ]
    },
    {
     "name": "stdout",
     "output_type": "stream",
     "text": [
      "Number 99 is Not Divisible By 7\n"
     ]
    }
   ],
   "source": [
    "usernumber=int(input('Enter Your Number'))\n",
    "if usernumber%7==0:\n",
    "    print(f'Number {usernumber} is Divisible by 7')\n",
    "else:\n",
    "    print(f\"Number {usernumber} is Not Divisible By 7\")"
   ]
  },
  {
   "cell_type": "markdown",
   "metadata": {},
   "source": [
    "5) Write a program to display \n",
    "\"Hello\" if a number entered by user is a multiple of five , otherwise print \"Bye\"."
   ]
  },
  {
   "cell_type": "code",
   "execution_count": 8,
   "metadata": {},
   "outputs": [
    {
     "name": "stdin",
     "output_type": "stream",
     "text": [
      "Enter Your Number 65\n"
     ]
    },
    {
     "name": "stdout",
     "output_type": "stream",
     "text": [
      "Hello\n"
     ]
    }
   ],
   "source": [
    "usernumber=int(input('Enter Your Number'))\n",
    "if usernumber%5==0:\n",
    "    print(f'Hello')\n",
    "else:\n",
    "    print(f\"Bye\")\n",
    "    "
   ]
  },
  {
   "cell_type": "markdown",
   "metadata": {},
   "source": [
    "7) Write a program to display the last digit of a number.\n"
   ]
  },
  {
   "cell_type": "code",
   "execution_count": 9,
   "metadata": {},
   "outputs": [
    {
     "name": "stdin",
     "output_type": "stream",
     "text": [
      "Enter Your Number 69\n"
     ]
    },
    {
     "name": "stdout",
     "output_type": "stream",
     "text": [
      "The Last digit of Your Number is 9\n"
     ]
    }
   ],
   "source": [
    "usernumber=int(input('Enter Your Number'))\n",
    "lastdigit=usernumber%10\n",
    "print(f'The Last digit of Your Number is {lastdigit}')\n"
   ]
  },
  {
   "cell_type": "markdown",
   "metadata": {},
   "source": [
    "9) Take values of length and breadth of a rectangle from user and print if it is square or rectangle."
   ]
  },
  {
   "cell_type": "code",
   "execution_count": 10,
   "metadata": {},
   "outputs": [
    {
     "name": "stdin",
     "output_type": "stream",
     "text": [
      "Enter the Value of Lenght 25\n",
      "Enter the Value of Breath 36\n"
     ]
    },
    {
     "name": "stdout",
     "output_type": "stream",
     "text": [
      "This is A Rectangle\n"
     ]
    }
   ],
   "source": [
    "userlenght=int(input(\"Enter the Value of Lenght\"))\n",
    "userbreath=int(input(\"Enter the Value of Breath\"))\n",
    "if userbreath==userlenght:\n",
    "    print(\"This is A Square\")\n",
    "else:\n",
    "    print(\"This is A Rectangle\")"
   ]
  },
  {
   "cell_type": "markdown",
   "metadata": {},
   "source": [
    "10) Take two int values from user and print greatest among them."
   ]
  },
  {
   "cell_type": "code",
   "execution_count": 11,
   "metadata": {},
   "outputs": [
    {
     "name": "stdin",
     "output_type": "stream",
     "text": [
      "Enter the First Value 56\n",
      "Enter the Second Value 59\n"
     ]
    },
    {
     "name": "stdout",
     "output_type": "stream",
     "text": [
      "This value which is 59 is greater than 56 \n"
     ]
    }
   ],
   "source": [
    "uservalue1=int(input(\"Enter the First Value\"))\n",
    "uservalue2=int(input(\"Enter the Second Value\"))\n",
    "if uservalue1>uservalue2:\n",
    "    print(f\"This value which is {uservalue1} is greater than {uservalue2}\")\n",
    "else:\n",
    "    print(f\"This value which is {uservalue2} is greater than {uservalue1} \")"
   ]
  },
  {
   "cell_type": "markdown",
   "metadata": {},
   "source": [
    "11) A shop will give discount of 10% if the cost of purchased quantity is more than 1000.\n",
    "Ask user for quantity\n",
    "Suppose, one unit will cost 100.\n",
    "Judge and print total cost for user."
   ]
  },
  {
   "cell_type": "code",
   "execution_count": 15,
   "metadata": {},
   "outputs": [
    {
     "name": "stdin",
     "output_type": "stream",
     "text": [
      "Enter Your Quantity: 1000\n"
     ]
    },
    {
     "name": "stdout",
     "output_type": "stream",
     "text": [
      "Your amount is 100000\n",
      "Sorry Your Purchased Quantity is Not Greater Than 1000 So You will Not Get a Disount\n"
     ]
    }
   ],
   "source": [
    "userQuantity=int(input(\"Enter Your Quantity:\"))\n",
    "price1=100\n",
    "newprice=userQuantity*price1\n",
    "print(f\"Your amount is ${newprice}\")\n",
    "discount=newprice*0.10\n",
    "discountedprice=newprice-discount\n",
    "if userQuantity>1000:\n",
    "    print(\"Since you purchsed more than 1000 in Quantity Congrats 10% Discount will be Added\")\n",
    "    print(f\"The New Amount is:${discountedprice}\")\n",
    "else:\n",
    "    print(\"Sorry Your Purchased Quantity is Not Greater Than 1000 So You will Not Get a Disount\")\n",
    "    \n",
    "    "
   ]
  },
  {
   "cell_type": "markdown",
   "metadata": {},
   "source": [
    "12) A school has following rules for grading system:\n",
    "\n",
    "a. Below 25 - F\n",
    "\n",
    "b. 25 to 45 - E\n",
    "\n",
    "c. 45 to 50 - D\n",
    "\n",
    "d. 50 to 60 - C\n",
    "\n",
    "e. 60 to 80 - B\n",
    "\n",
    "f. Above 80 - A\n",
    "\n",
    "Ask user to enter marks and print the corresponding grade."
   ]
  },
  {
   "cell_type": "code",
   "execution_count": 16,
   "metadata": {},
   "outputs": [
    {
     "name": "stdin",
     "output_type": "stream",
     "text": [
      "Enter Your Grade 56\n"
     ]
    },
    {
     "name": "stdout",
     "output_type": "stream",
     "text": [
      "Your Grade is C ,Need Improvement\n"
     ]
    }
   ],
   "source": [
    "usergrade=(int(input(\"Enter Your Grade\")))\n",
    "if usergrade<=25:\n",
    "    print(\"Your Grade is F ,You Need To Work Hard\")\n",
    "elif usergrade<=45:\n",
    "    print(\"Your Grade is E ,You Need To Work Hard\")\n",
    "elif usergrade<=50:\n",
    "    print(\"Your Grade is D ,You Need To Work Hard\")\n",
    "elif usergrade<=60:\n",
    "    print(\"Your Grade is C ,Need Improvement\")\n",
    "elif usergrade<=80:\n",
    "    print(\"Your Grade is B ,Good Work\")\n",
    "elif usergrade>80:\n",
    "    print(\"Your Grade is A ,Execellent\")"
   ]
  },
  {
   "cell_type": "markdown",
   "metadata": {},
   "source": [
    "14)A student will not be allowed to sit in exam if his/her attendence is less than 75%.\n",
    "\n",
    "Take following input from user\n",
    "\n",
    "- Number of classes held\n",
    "\n",
    "- Number of classes attended.\n",
    "\n",
    "And print\n",
    "\n",
    "- percentage of class attended\n",
    "\n",
    "- Is student is allowed to sit in exam or not.\n"
   ]
  },
  {
   "cell_type": "code",
   "execution_count": 17,
   "metadata": {},
   "outputs": [
    {
     "name": "stdin",
     "output_type": "stream",
     "text": [
      "Enter the Number of Clases Held 12\n",
      "Enter the number of Clases You have Attended 8\n"
     ]
    },
    {
     "name": "stdout",
     "output_type": "stream",
     "text": [
      "You are not Eligible For taking This Exam\n"
     ]
    }
   ],
   "source": [
    "number_of_clases_held=int(input('Enter the Number of Clases Held'))\n",
    "number_of_clases_attended=(int(input('Enter the number of Clases You have Attended')))\n",
    "attended=(number_of_clases_attended/number_of_clases_held)*100\n",
    "if attended<75:\n",
    "    print('You are not Eligible For taking This Exam')\n",
    "else:\n",
    "    print('You are Eligible For taking This Exam')"
   ]
  },
  {
   "cell_type": "markdown",
   "metadata": {},
   "source": [
    "15) Modify the above question to allow student to sit if he/she has medical cause. Ask user if he/she has medical cause or not ( 'Y' or 'N' ) and print accordingly."
   ]
  },
  {
   "cell_type": "code",
   "execution_count": 18,
   "metadata": {},
   "outputs": [
    {
     "name": "stdin",
     "output_type": "stream",
     "text": [
      "Enter the Number of Clases Held 12\n",
      "Enter the number of Clases You have Attended 8\n",
      "Did you Had Any Medical Emergency, Enter Y/N y\n"
     ]
    },
    {
     "name": "stdout",
     "output_type": "stream",
     "text": [
      "Since You Had An Medical Emergency You can Take This Test\n"
     ]
    }
   ],
   "source": [
    "number_of_clases_held=int(input('Enter the Number of Clases Held'))\n",
    "number_of_clases_attended=(int(input('Enter the number of Clases You have Attended')))\n",
    "attended=(number_of_clases_attended/number_of_clases_held)*100\n",
    "medical_emergency=(input('Did you Had Any Medical Emergency, Enter Y/N')).strip().lower()\n",
    "if medical_emergency=='y':\n",
    "    print('Since You Had An Medical Emergency You can Take This Test')\n",
    "elif attended<75:\n",
    "    print('You are not Eligible For taking This Exam')\n",
    "else:\n",
    "    print('You are Eligible For taking This Exam')"
   ]
  },
  {
   "cell_type": "markdown",
   "metadata": {},
   "source": [
    "16) Write a program to check if a year is leap year or not.\n",
    "\n",
    "If a year is divisible by 4 then it is leap year but if the year is century year like 2000, 1900, 2100 then it must be divisible by 400."
   ]
  },
  {
   "cell_type": "code",
   "execution_count": 20,
   "metadata": {},
   "outputs": [
    {
     "name": "stdin",
     "output_type": "stream",
     "text": [
      "Enter Your YEAR 2000\n"
     ]
    },
    {
     "name": "stdout",
     "output_type": "stream",
     "text": [
      "The Year is a leap Year 2000\n"
     ]
    }
   ],
   "source": [
    "userLeapYear=int(input('Enter Your YEAR'))\n",
    "if userLeapYear%4==0 and userLeapYear%400==0:\n",
    "    print(f'The Year is a leap Year {userLeapYear}')\n",
    "else:\n",
    "    print(\"This is Not A leap Year\")"
   ]
  },
  {
   "cell_type": "markdown",
   "metadata": {},
   "source": [
    "17) Ask user to enter age, gender ( M or F ), marital status ( Y or N ) and then using following rules print their place of service.\n",
    "\n",
    "if employee is female, then she will work only in urban areas.\n",
    "\n",
    "if employee is a male and age is in between 20 to 40 then he may work in anywhere\n",
    "\n",
    "if employee is male and age is in between 40 t0 60 then he will work in urban areas only.\n",
    "\n",
    "And any other input of age should print \"ERROR\""
   ]
  },
  {
   "cell_type": "code",
   "execution_count": 25,
   "metadata": {},
   "outputs": [
    {
     "name": "stdin",
     "output_type": "stream",
     "text": [
      "Enter Your Age 20\n",
      "Enter Your Gender M/F m\n",
      "Enter Your marital status Y/N y\n"
     ]
    },
    {
     "name": "stdout",
     "output_type": "stream",
     "text": [
      "You are eligible to work anywhere\n"
     ]
    }
   ],
   "source": [
    "age=int(input(\"Enter Your Age\"))\n",
    "gender=input(\"Enter Your Gender M/F\").strip().lower()\n",
    "marital_status=input(\"Enter Your marital status Y/N\").strip().lower()\n",
    "if gender==\"f\":\n",
    "    print('You can only work in Urban Areas')\n",
    "elif gender=='m' and 20<=age<40:\n",
    "    print('You are eligible to work anywhere')\n",
    "elif gender=='m' and 40<=age<60:\n",
    "    print ('You are eligible for work only in Urban Areas')\n",
    "else:\n",
    "    print(\"Error\")"
   ]
  },
  {
   "cell_type": "markdown",
   "metadata": {},
   "source": [
    "6) Write a program to calculate the electricity bill (accept number of unit from user) according to the following criteria :\n",
    "     Unit                                                     Price  \n",
    "uptp 100 units                                             no charge\n",
    "Next 200 units                                              Rs 5 per unit\n",
    "After 200 units                                             Rs 10 per unit\n",
    "(For example if input unit is 350 than total bill amount is Rs.3500\n",
    "(For example if input unit is 97 than total bill amount is Rs.0\n",
    "(For example if input unit is 150 than total bill amount is Rs.750"
   ]
  },
  {
   "cell_type": "code",
   "execution_count": 30,
   "metadata": {},
   "outputs": [
    {
     "name": "stdin",
     "output_type": "stream",
     "text": [
      "Enter Your Units 350\n"
     ]
    },
    {
     "name": "stdout",
     "output_type": "stream",
     "text": [
      "This Month You are charged With 3500$\n"
     ]
    }
   ],
   "source": [
    "number_of_unit=int(input(\"Enter Your Units\"))\n",
    "if number_of_unit<100:\n",
    "    print('This Month You are charged With 0$')\n",
    "elif 100<=number_of_unit<200:\n",
    "    number_of_unit_above_100=number_of_unit*5\n",
    "    print(f'This Month You are charged With {number_of_unit_above_100}$')\n",
    "elif number_of_unit>=200:\n",
    "    number_of_unit_above_200=number_of_unit*10\n",
    "    print(f'This Month You are charged With {number_of_unit_above_200}$')\n",
    "else:\n",
    "    print('Enter a Valid Amount')\n",
    "\n"
   ]
  },
  {
   "cell_type": "markdown",
   "metadata": {},
   "source": [
    "13) Take input of age of 3 people by user and determine oldest and youngest among them."
   ]
  },
  {
   "cell_type": "code",
   "execution_count": 46,
   "metadata": {},
   "outputs": [
    {
     "name": "stdin",
     "output_type": "stream",
     "text": [
      "Enter The Age of First User 59\n",
      "Enter The Age of Second User 16\n",
      "Enter The Age of Third User 19\n"
     ]
    },
    {
     "name": "stdout",
     "output_type": "stream",
     "text": [
      "59 is the Oldest\n",
      "16 is the Youngest\n"
     ]
    }
   ],
   "source": [
    "first_user_age=int(input('Enter The Age of First User'))\n",
    "second_user_age=int(input('Enter The Age of Second User'))\n",
    "third_user_age=int(input('Enter The Age of Third User'))\n",
    "if first_user_age >100 and second_user_age>100 and third_user_age>100:\n",
    "    print('This is Not A Valid Age')\n",
    "else:\n",
    "    if first_user_age>second_user_age and first_user_age> third_user_age:\n",
    "        print(F\"{first_user_age} is the Oldest\")\n",
    "    elif second_user_age> first_user_age and second_user_age> third_user_age:\n",
    "        print(F\"{second_user_age} is the Oldest\")\n",
    "    elif third_user_age>second_user_age and third_user_age>first_user_age:\n",
    "        print(F\"{third_user_age} is the Oldest\")\n",
    "    if first_user_age<second_user_age and first_user_age<third_user_age:\n",
    "        print(F\"{first_user_age} is the Youngest\")\n",
    "    elif second_user_age< first_user_age and second_user_age< third_user_age:\n",
    "        print(F\"{second_user_age} is the Youngest\")\n",
    "    elif third_user_age<second_user_age and third_user_age< first_user_age:\n",
    "        print(F\"{third_user_age} is the Youngest\")\n",
    "\n",
    "\n"
   ]
  },
  {
   "cell_type": "code",
   "execution_count": null,
   "metadata": {},
   "outputs": [],
   "source": []
  },
  {
   "cell_type": "code",
   "execution_count": null,
   "metadata": {},
   "outputs": [],
   "source": []
  },
  {
   "cell_type": "code",
   "execution_count": null,
   "metadata": {},
   "outputs": [],
   "source": []
  },
  {
   "cell_type": "code",
   "execution_count": null,
   "metadata": {},
   "outputs": [],
   "source": []
  },
  {
   "cell_type": "code",
   "execution_count": null,
   "metadata": {},
   "outputs": [],
   "source": []
  }
 ],
 "metadata": {
  "kernelspec": {
   "display_name": "Python 3 (ipykernel)",
   "language": "python",
   "name": "python3"
  },
  "language_info": {
   "codemirror_mode": {
    "name": "ipython",
    "version": 3
   },
   "file_extension": ".py",
   "mimetype": "text/x-python",
   "name": "python",
   "nbconvert_exporter": "python",
   "pygments_lexer": "ipython3",
   "version": "3.11.7"
  }
 },
 "nbformat": 4,
 "nbformat_minor": 4
}
